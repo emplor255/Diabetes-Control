{
 "cells": [
  {
   "cell_type": "code",
   "execution_count": 1,
   "metadata": {},
   "outputs": [],
   "source": [
    "import numpy as np\n",
    "import matplotlib.pyplot as plt\n",
    "import pandas as pd\n",
    "from scipy.integrate import odeint\n",
    "from lmfit import minimize, Parameters, Parameter, report_fit\n",
    "from scipy.integrate import odeint"
   ]
  },
  {
   "cell_type": "code",
   "execution_count": 2,
   "metadata": {},
   "outputs": [
    {
     "data": {
      "text/html": [
       "<div>\n",
       "<style scoped>\n",
       "    .dataframe tbody tr th:only-of-type {\n",
       "        vertical-align: middle;\n",
       "    }\n",
       "\n",
       "    .dataframe tbody tr th {\n",
       "        vertical-align: top;\n",
       "    }\n",
       "\n",
       "    .dataframe thead th {\n",
       "        text-align: right;\n",
       "    }\n",
       "</style>\n",
       "<table border=\"1\" class=\"dataframe\">\n",
       "  <thead>\n",
       "    <tr style=\"text-align: right;\">\n",
       "      <th></th>\n",
       "      <th>Timestamp</th>\n",
       "      <th>BG</th>\n",
       "      <th>Insulin Bolus</th>\n",
       "      <th>Noise</th>\n",
       "      <th>Eating</th>\n",
       "    </tr>\n",
       "  </thead>\n",
       "  <tbody>\n",
       "    <tr>\n",
       "      <th>0</th>\n",
       "      <td>06:04</td>\n",
       "      <td>154</td>\n",
       "      <td>0.0</td>\n",
       "      <td>Y</td>\n",
       "      <td>0</td>\n",
       "    </tr>\n",
       "    <tr>\n",
       "      <th>1</th>\n",
       "      <td>06:09</td>\n",
       "      <td>147</td>\n",
       "      <td>0.0</td>\n",
       "      <td>Y</td>\n",
       "      <td>0</td>\n",
       "    </tr>\n",
       "    <tr>\n",
       "      <th>2</th>\n",
       "      <td>06:14</td>\n",
       "      <td>153</td>\n",
       "      <td>0.0</td>\n",
       "      <td>Y</td>\n",
       "      <td>0</td>\n",
       "    </tr>\n",
       "    <tr>\n",
       "      <th>3</th>\n",
       "      <td>06:19</td>\n",
       "      <td>153</td>\n",
       "      <td>8.8</td>\n",
       "      <td>P</td>\n",
       "      <td>120</td>\n",
       "    </tr>\n",
       "    <tr>\n",
       "      <th>4</th>\n",
       "      <td>06:24</td>\n",
       "      <td>153</td>\n",
       "      <td>0.0</td>\n",
       "      <td>Y</td>\n",
       "      <td>0</td>\n",
       "    </tr>\n",
       "  </tbody>\n",
       "</table>\n",
       "</div>"
      ],
      "text/plain": [
       "  Timestamp   BG  Insulin Bolus Noise  Eating\n",
       "0     06:04  154            0.0     Y       0\n",
       "1     06:09  147            0.0     Y       0\n",
       "2     06:14  153            0.0     Y       0\n",
       "3     06:19  153            8.8     P     120\n",
       "4     06:24  153            0.0     Y       0"
      ]
     },
     "execution_count": 2,
     "metadata": {},
     "output_type": "execute_result"
    }
   ],
   "source": [
    "# Import data\n",
    "df = pd.read_csv('Mai_Hue.csv')\n",
    "df.head()"
   ]
  },
  {
   "cell_type": "code",
   "execution_count": 3,
   "metadata": {},
   "outputs": [
    {
     "name": "stdout",
     "output_type": "stream",
     "text": [
      "[0.0, 5.0, 10.0, 15.0, 20.0, 25.0, 30.0, 35.0, 40.0, 41.0, 50.0, 55.0, 60.0, 65.0, 70.0, 75.0, 80.0, 85.0, 90.0, 95.0, 100.0, 105.0, 110.0, 115.0, 120.0, 121.0, 125.0, 130.0, 131.0, 135.0, 136.0, 140.0, 141.0, 145.0, 146.0, 152.0, 155.0, 160.0, 165.0, 170.0, 175.0, 180.0, 185.0, 191.0, 195.0, 200.0, 205.0, 210.0, 215.0, 220.0, 225.0, 230.0, 235.0, 240.0, 245.0, 250.0, 255.0, 261.0, 265.0, 270.0, 275.0, 280.0, 285.0, 290.0, 295.0, 300.0, 305.0, 310.0, 315.0, 320.0, 325.0, 330.0, 335.0, 340.0, 351.0, 353.0, 360.0, 365.0, 370.0, 375.0, 380.0, 385.0, 390.0, 395.0, 400.0, 405.0, 410.0, 415.0, 420.0, 425.0, 430.0, 435.0, 440.0, 445.0, 450.0, 455.0, 460.0, 465.0, 470.0, 475.0, 480.0, 485.0, 486.0, 490.0, 495.0, 500.0, 505.0, 510.0, 515.0, 520.0, 525.0, 526.0, 530.0, 535.0, 536.0, 540.0, 541.0, 545.0, 550.0, 555.0, 560.0, 565.0, 570.0, 575.0, 580.0, 585.0, 586.0, 590.0, 591.0, 595.0, 596.0, 598.0, 600.0, 605.0, 606.0, 611.0, 616.0, 621.0, 626.0, 631.0, 636.0, 641.0, 645.0, 650.0, 651.0, 655.0, 660.0, 665.0, 670.0, 675.0, 680.0, 685.0, 690.0, 695.0, 700.0, 705.0, 710.0, 715.0]\n"
     ]
    }
   ],
   "source": [
    "#Make Timestamp into a time series T_values list\n",
    "from datetime import datetime\n",
    "\n",
    "# Step 2: Convert the \"Timestamp\" column to datetime objects\n",
    "df['Timestamp'] = pd.to_datetime(df['Timestamp'])\n",
    "\n",
    "# Step 3: Calculate the time differences and convert to seconds starting at 0\n",
    "start_time = df['Timestamp'].iloc[0]\n",
    "df['TimeInMinutes'] = (df['Timestamp'] - start_time).dt.total_seconds() / 60\n",
    "\n",
    "# Convert the \"TimeInMinutes\" column to a list\n",
    "time_values = df['TimeInMinutes'].tolist()\n",
    "\n",
    "print(time_values)"
   ]
  },
  {
   "cell_type": "code",
   "execution_count": 57,
   "metadata": {},
   "outputs": [],
   "source": [
    "#Make BG into a list\n",
    "BG_values = df['BG'].tolist()\n",
    "#Make Insulin into a list\n",
    "Insulin_values = df['Insulin Bolus'].tolist()\n",
    "#Make Eating into a list\n",
    "Eating_values = df['Eating'].tolist()\n",
    "\n",
    "#Make Noise into a list that 'N' is replace by 1; 'Y' is replace by 1/2 and 'P' is replace by 0\n",
    "Noise_values = df['Noise'].tolist()\n",
    "Noise_values = [1 if x=='N' else x for x in Noise_values]\n",
    "Noise_values = [1 if x=='Y' else x for x in Noise_values]\n",
    "Noise_values = [1 if x=='P' else x for x in Noise_values]\n",
    "\n"
   ]
  },
  {
   "cell_type": "code",
   "execution_count": 5,
   "metadata": {},
   "outputs": [],
   "source": [
    "def softplus(x):\n",
    "    return np.log(1 + np.exp(x))\n",
    "\n",
    "def relu(x):\n",
    "    return np.maximum(0, x)"
   ]
  },
  {
   "cell_type": "code",
   "execution_count": 86,
   "metadata": {},
   "outputs": [],
   "source": [
    "def f(y, t, paras):\n",
    "    \"\"\"\n",
    "    Your system of differential equations\n",
    "    \"\"\"\n",
    "\n",
    "    G1 = y[0]\n",
    "    G2 = y[1]\n",
    "    I = y[2]\n",
    "\n",
    "    try:\n",
    "        alpha = paras['alpha'].value\n",
    "        beta1 = paras['beta1'].value\n",
    "        beta2 = paras['beta2'].value\n",
    "        I_basal = paras['I_basal'].value\n",
    "        gamma = paras['gamma'].value\n",
    "        delta = paras['delta'].value\n",
    "        I_max = paras['I_max'].value\n",
    "\n",
    "    except KeyError:\n",
    "        alpha, beta1, beta2, I_basal, gamma, delta, I_max = paras\n",
    "    # the model equations\n",
    "    eating_values = np.interp(t, time_values, Eating_values)\n",
    "    dG1 = -alpha*G1 + eating_values\n",
    "    dG2 = alpha*G1 - (beta1 + beta2 * (I+I_basal)) *G2\n",
    "    # Find the corresponding insulin value for the current time point\n",
    "    insulin_value = np.interp(t, time_values, Insulin_values)\n",
    "\n",
    "    dI = gamma * relu(G2 - 180) - delta * I + insulin_value\n",
    "    return [dG1, dG2, dI]\n",
    "    #dI = I_max * (reG2**2) / (gamma + reG2**2) - delta * I \n",
    "    #dI = I_max + gamma * relu(G2 -  92.5) - delta * I\n",
    "    #dI = I_max * (G2**2) / (gamma + G2**2) - delta * I \n",
    "    #dI = I_max * G2 / (gamma + G2) - delta * I \n",
    "    #dI = gamma * G2 - delta * I\n",
    "\n",
    "\n",
    "def g(t, x0, paras):\n",
    "    # Solution to the ODE x'(t) = f(t,x,k) with initial condition x(0) = x0\n",
    "    x = odeint(f, x0, t, args=(paras,))\n",
    "    return x\n",
    "\n",
    "def residual(paras, t, data):\n",
    "    # Compute the residual between actual data and fitted data\n",
    "    x0 = paras['G10'].value, paras['G20'].value, paras['I0'].value\n",
    "    model = g(t, x0, paras)\n",
    "\n",
    "    # Extract the second column of the model (G2)\n",
    "    x2_model = model[:, 1] \n",
    "\n",
    "    # Calculate the weighted residual\n",
    "    Noise_values_array = np.array(Noise_values)\n",
    "    weighted_residual = Noise_values_array * (x2_model - data)\n",
    "    return weighted_residual.ravel()\n",
    "\n",
    "\n"
   ]
  },
  {
   "cell_type": "code",
   "execution_count": 88,
   "metadata": {},
   "outputs": [],
   "source": [
    "# initial conditions\n",
    "G10 = 0\n",
    "G20 = BG_values[0]\n",
    "I0 = 0.7\n",
    "y0 = [G10, G20, I0]\n",
    "\n",
    "\n",
    "# set parameters including bounds; you can also fix parameters (use vary=False)\n",
    "# I fixed the initial concentrations, you could also set them as variables if you like (just remove the vary=False in the code below).\n",
    "params = Parameters()\n",
    "params.add('G10', value=G10)\n",
    "params.add('G20', value=G20, vary=False)\n",
    "params.add('I0', value=I0, vary = False)\n",
    "params.add('alpha', value=2, min=0.0001)\n",
    "params.add('beta1', value=0.03, min=0.0001)\n",
    "params.add('beta2', value=0.02)\n",
    "params.add('I_basal', value=0.3, min=0.05, max = 20)\n",
    "params.add('gamma', value=0.2, min=0.0001)\n",
    "params.add('delta', value=0.3, min=0.0001)\n",
    "params.add('I_max', value=5, min = 5)"
   ]
  },
  {
   "cell_type": "code",
   "execution_count": 89,
   "metadata": {},
   "outputs": [
    {
     "name": "stdout",
     "output_type": "stream",
     "text": [
      "[[Fit Statistics]]\n",
      "    # fitting method   = leastsq\n",
      "    # function evals   = 130\n",
      "    # data points      = 158\n",
      "    # variables        = 8\n",
      "    chi-square         = 250802.050\n",
      "    reduced chi-square = 1672.01367\n",
      "    Akaike info crit   = 1180.43223\n",
      "    Bayesian info crit = 1204.93299\n",
      "##  Warning: uncertainties could not be estimated:\n",
      "    I_max:    at initial value\n",
      "    I_max:    at boundary\n",
      "[[Variables]]\n",
      "    G10:     -21.8657767 (init = 0)\n",
      "    G20:      154 (fixed)\n",
      "    I0:       0.7 (fixed)\n",
      "    alpha:    0.27893592 (init = 2)\n",
      "    beta1:    5.6397e-04 (init = 0.03)\n",
      "    beta2:    0.00210819 (init = 0.02)\n",
      "    I_basal:  0.05038800 (init = 0.3)\n",
      "    gamma:    1.69936958 (init = 0.2)\n",
      "    delta:    0.31724477 (init = 0.3)\n",
      "    I_max:    5.00000000 (init = 5)\n"
     ]
    },
    {
     "data": {
      "image/png": "[encoded data removed]",
      "text/plain": [
       "<Figure size 640x480 with 1 Axes>"
      ]
     },
     "metadata": {},
     "output_type": "display_data"
    }
   ],
   "source": [
    "# fit model\n",
    "result = minimize(residual, params, args=(time_values, BG_values), method='leastsq')  # leastsq nelder\n",
    "# check results of the fit\n",
    "data_fitted = g(np.linspace(0., 700., 1000), y0, result.params)\n",
    "\n",
    "# plot fitted data\n",
    "plt.figure()\n",
    "plt.scatter(time_values, BG_values, marker='o', color='b', label='G2 data', s=75)\n",
    "\n",
    "#plt.plot(np.linspace(0., 700., 1000), data_fitted[:, 0], '-', linewidth=2, color='blue', label='G1 fitted data')\n",
    "plt.plot(np.linspace(0., 700., 1000), data_fitted[:, 1], '-', linewidth=2, color='red', label='G2 fitted data')\n",
    "#plt.plot(np.linspace(0., 9., 100), data_fitted[:, 2], '-', linewidth=2, color='green', label='I fitted data')\n",
    "plt.legend()\n",
    "#plt.xlim([0, max(t_measured)])\n",
    "#plt.ylim([0, 1.1 * max(data_fitted[:, 1])])\n",
    "\n",
    "# display fitted statistics\n",
    "report_fit(result)\n",
    "\n",
    "plt.show()"
   ]
  }
 ],
 "metadata": {
  "kernelspec": {
   "display_name": "myenv",
   "language": "python",
   "name": "python3"
  },
  "language_info": {
   "codemirror_mode": {
    "name": "ipython",
    "version": 3
   },
   "file_extension": ".py",
   "mimetype": "text/x-python",
   "name": "python",
   "nbconvert_exporter": "python",
   "pygments_lexer": "ipython3",
   "version": "3.9.13"
  },
  "orig_nbformat": 4
 },
 "nbformat": 4,
 "nbformat_minor": 2
}
