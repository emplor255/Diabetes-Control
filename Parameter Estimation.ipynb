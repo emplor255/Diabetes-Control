{
 "cells": [
  {
   "cell_type": "code",
   "execution_count": null,
   "metadata": {},
   "outputs": [],
   "source": [
    "import numpy as np\n",
    "from scipy.integrate import odeint\n",
    "import matplotlib.pyplot as plt\n",
    "from scipy.optimize import curve_fit\n",
    "    \n"
   ]
  },
  {
   "cell_type": "code",
   "execution_count": null,
   "metadata": {},
   "outputs": [],
   "source": [
    "#write program of Runge-Kutta order 4.5 (Dorman Prince) method to solve the differential equation\n",
    "def f(x,y):\n",
    "    return (x-y)/2\n",
    "def RK45(x0,y0,xn,n):\n",
    "    h=(xn-x0)/n\n",
    "    print('\\n--------SOLUTION--------')\n",
    "    print('x0\\ty0\\tk1\\tk2\\tk3\\tk4\\tk5\\tk6\\ty1')\n",
    "    print('--------------------------------------------------------------------------------')\n",
    "    for i in range(n):\n",
    "        k1=h*f(x0,y0)\n",
    "        k2=h*f(x0+h/5,y0+k1/5)\n",
    "        k3=h*f(x0+3*h/10,y0+3*k1/40+9*k2/40)\n",
    "        k4=h*f(x0+4*h/5,y0+44*k1/45-56*k2/15+32*k3/9)\n",
    "        k5=h*f(x0+8*h/9,y0+19372*k1/6561-25360*k2/2187+64448*k3/6561-212*k4/729)\n",
    "        k6=h*f(x0+h,y0+9017*k1/3168-355*k2/33+46732*k3/5247+49*k4/176-5103*k5/18656)\n",
    "        y=y0+35*k1/384+500*k3/1113+125*k4/192-218"
   ]
  },
  {
   "cell_type": "code",
   "execution_count": null,
   "metadata": {},
   "outputs": [],
   "source": [
    "#Lodka-Volterra non linear model\n",
    "def MakeModel(Alpha,Beta,Gamma,Delta,Variables):\n",
    "    Equation1=Variables[0]*(Alpha-Beta*Variables[1])\n",
    "    Equation2=-Variables[1]*(Gamma-Delta*Variables[0])\n",
    "    return [Equation1,Equation2]\n",
    "\n",
    "#Integration time\n",
    "SolverTime=np.linspace(0,50,num=200)\n",
    "\n",
    "#Parameters of the model \n",
    "alpha=0.25\n",
    "beta=0.55\n",
    "gamma=0.3\n",
    "delta=0.6\n",
    "\n",
    "#Initial conditions \n",
    "Int=np.array([3,1])  \n",
    "\n",
    "#Model Solution \n",
    "def ODEModel(InitialConditions,t):\n",
    "    return MakeModel(alpha,beta,gamma,delta,InitialConditions)\n",
    "\n",
    "Solution=odeint(ODEModel,Int,SolverTime)"
   ]
  },
  {
   "cell_type": "code",
   "execution_count": null,
   "metadata": {},
   "outputs": [],
   "source": [
    "#Measures the squared error between the data and the fit given an initial parameter guess\n",
    "def SquaredError(InitialParameterGuess):\n",
    "    \n",
    "    try:\n",
    "        #Some guesses will result in an error or an invalid integration \n",
    "        #this ensures that the error is estimated only for valid solutions \n",
    "        cModelParams=curve_fit(ModelFit,SolverTime,WhiteSignal,p0=InitialParameterGuess)\n",
    "        cSolution=ModelSolver(SolverTime,cModelParams[0][0],cModelParams[0][1],cModelParams[0][2],cModelParams[0][3],Int)\n",
    "    \n",
    "        error=[(val-sal)**2 for val,sal in zip(cSolution,WhiteSignal)]\n",
    "        \n",
    "    except RuntimeError:\n",
    "        \n",
    "        #Based on the scale of the data the following list of values will be large enough to be rejected as a solution \n",
    "        error=[10,10]\n",
    "    \n",
    "    return sum(error)"
   ]
  },
  {
   "cell_type": "code",
   "execution_count": null,
   "metadata": {},
   "outputs": [],
   "source": [
    "#Random selection of the initial guess values \n",
    "def RandomSearch(Iterations):\n",
    "\n",
    "    nIt=Iterations \n",
    "    GuessContainer=[]\n",
    "    ErrorContainer=[]\n",
    "    for k in range(nIt):\n",
    "        lGuess=[np.random.uniform(low=0,high=1) for val in range(4)]\n",
    "        lerror=SquaredError(lGuess)\n",
    "        GuessContainer.append(lGuess) #Contains the list of random initial values \n",
    "        ErrorContainer.append(lerror) #List of the errors \n",
    "    minError=np.min(ErrorContainer) #Min error value \n",
    "    minLocation=[j for j in range(nIt) if ErrorContainer[j]==minError] #Returns the location of the min value in the list\n",
    "    bestGuess=GuessContainer[minLocation[0]] #Best initial value guess \n",
    "    \n",
    "    return ErrorContainer,bestGuess"
   ]
  },
  {
   "cell_type": "code",
   "execution_count": null,
   "metadata": {},
   "outputs": [],
   "source": [
    "#Vector of random initial values \n",
    "g0=[np.random.uniform(low=0,high=1) for val in range(4)] \n",
    "\n",
    "#Minimization of the squared error by Nelder-Mead \n",
    "res = minimize(SquaredError, g0, method='nelder-mead',options={'xtol': 1e-3, 'maxiter':100,'disp': False})\n",
    "\n",
    "ModelParams03=curve_fit(ModelFit,SolverTime,WhiteSignal,p0=res.x)\n",
    "FitSolution3=ModelSolver(SolverTime,ModelParams03[0][0],ModelParams03[0][1],ModelParams03[0][2],ModelParams03[0][3],Int)\n",
    "view raw\n"
   ]
  }
 ],
 "metadata": {
  "language_info": {
   "name": "python"
  },
  "orig_nbformat": 4
 },
 "nbformat": 4,
 "nbformat_minor": 2
}
