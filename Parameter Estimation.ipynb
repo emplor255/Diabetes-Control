{
 "cells": [
  {
   "cell_type": "code",
   "execution_count": 8,
   "metadata": {},
   "outputs": [],
   "source": [
    "import numpy as np\n",
    "from scipy.integrate import odeint\n",
    "import matplotlib.pyplot as plt\n",
    "from scipy.optimize import curve_fit\n",
    "from scipy.optimize import minimize\n",
    "\n",
    "\n"
   ]
  },
  {
   "cell_type": "code",
   "execution_count": 3,
   "metadata": {},
   "outputs": [],
   "source": [
    "#write program of Runge-Kutta order 4.5 (Dorman Prince) method to solve the differential equation\n",
    "def f(x,y):\n",
    "    return (x-y)/2\n",
    "def RK45(x0,y0,xn,n):\n",
    "    h=(xn-x0)/n\n",
    "    print('\\n--------SOLUTION--------')\n",
    "    print('x0\\ty0\\tk1\\tk2\\tk3\\tk4\\tk5\\tk6\\ty1')\n",
    "    print('--------------------------------------------------------------------------------')\n",
    "    for i in range(n):\n",
    "        k1=h*f(x0,y0)\n",
    "        k2=h*f(x0+h/5,y0+k1/5)\n",
    "        k3=h*f(x0+3*h/10,y0+3*k1/40+9*k2/40)\n",
    "        k4=h*f(x0+4*h/5,y0+44*k1/45-56*k2/15+32*k3/9)\n",
    "        k5=h*f(x0+8*h/9,y0+19372*k1/6561-25360*k2/2187+64448*k3/6561-212*k4/729)\n",
    "        k6=h*f(x0+h,y0+9017*k1/3168-355*k2/33+46732*k3/5247+49*k4/176-5103*k5/18656)\n",
    "        y=y0+35*k1/384+500*k3/1113+125*k4/192-218"
   ]
  },
  {
   "cell_type": "code",
   "execution_count": 4,
   "metadata": {},
   "outputs": [],
   "source": [
    "#Lodka-Volterra non linear model\n",
    "def MakeModel(Alpha,Beta,Gamma,Delta,Variables):\n",
    "    Equation1=Variables[0]*(Alpha-Beta*Variables[1])\n",
    "    Equation2=-Variables[1]*(Gamma-Delta*Variables[0])\n",
    "    return [Equation1,Equation2]\n",
    "\n",
    "#Integration time\n",
    "SolverTime=np.linspace(0,50,num=200)\n",
    "\n",
    "#Parameters of the model \n",
    "alpha=0.25\n",
    "beta=0.55\n",
    "gamma=0.3\n",
    "delta=0.6\n",
    "\n",
    "#Initial conditions \n",
    "Int=np.array([3,1])  \n",
    "\n",
    "#Model Solution \n",
    "def ODEModel(InitialConditions,t):\n",
    "    return MakeModel(alpha,beta,gamma,delta,InitialConditions)\n",
    "\n",
    "Solution=odeint(ODEModel,Int,SolverTime)"
   ]
  },
  {
   "cell_type": "code",
   "execution_count": 5,
   "metadata": {},
   "outputs": [],
   "source": [
    "#Measures the squared error between the data and the fit given an initial parameter guess\n",
    "def SquaredError(InitialParameterGuess):\n",
    "    \n",
    "    try:\n",
    "        #Some guesses will result in an error or an invalid integration \n",
    "        #this ensures that the error is estimated only for valid solutions \n",
    "        cModelParams=curve_fit(ModelFit,SolverTime,WhiteSignal,p0=InitialParameterGuess)\n",
    "        cSolution=ModelSolver(SolverTime,cModelParams[0][0],cModelParams[0][1],cModelParams[0][2],cModelParams[0][3],Int)\n",
    "    \n",
    "        error=[(val-sal)**2 for val,sal in zip(cSolution,WhiteSignal)]\n",
    "        \n",
    "    except RuntimeError:\n",
    "        \n",
    "        #Based on the scale of the data the following list of values will be large enough to be rejected as a solution \n",
    "        error=[10,10]\n",
    "    \n",
    "    return sum(error)"
   ]
  },
  {
   "cell_type": "code",
   "execution_count": 6,
   "metadata": {},
   "outputs": [],
   "source": [
    "#Random selection of the initial guess values \n",
    "def RandomSearch(Iterations):\n",
    "\n",
    "    nIt=Iterations \n",
    "    GuessContainer=[]\n",
    "    ErrorContainer=[]\n",
    "    for k in range(nIt):\n",
    "        lGuess=[np.random.uniform(low=0,high=1) for val in range(4)]\n",
    "        lerror=SquaredError(lGuess)\n",
    "        GuessContainer.append(lGuess) #Contains the list of random initial values \n",
    "        ErrorContainer.append(lerror) #List of the errors \n",
    "    minError=np.min(ErrorContainer) #Min error value \n",
    "    minLocation=[j for j in range(nIt) if ErrorContainer[j]==minError] #Returns the location of the min value in the list\n",
    "    bestGuess=GuessContainer[minLocation[0]] #Best initial value guess \n",
    "    \n",
    "    return ErrorContainer,bestGuess"
   ]
  },
  {
   "cell_type": "code",
   "execution_count": 9,
   "metadata": {},
   "outputs": [
    {
     "name": "stderr",
     "output_type": "stream",
     "text": [
      "C:\\Users\\Administrator\\AppData\\Local\\Temp\\ipykernel_7128\\580879155.py:5: OptimizeWarning: Unknown solver options: xtol\n",
      "  res = minimize(SquaredError, g0, method='nelder-mead',options={'xtol': 1e-3, 'maxiter':100,'disp': False})\n"
     ]
    },
    {
     "ename": "NameError",
     "evalue": "name 'ModelFit' is not defined",
     "output_type": "error",
     "traceback": [
      "\u001b[1;31m---------------------------------------------------------------------------\u001b[0m",
      "\u001b[1;31mNameError\u001b[0m                                 Traceback (most recent call last)",
      "Cell \u001b[1;32mIn[9], line 5\u001b[0m\n\u001b[0;32m      2\u001b[0m g0\u001b[39m=\u001b[39m[np\u001b[39m.\u001b[39mrandom\u001b[39m.\u001b[39muniform(low\u001b[39m=\u001b[39m\u001b[39m0\u001b[39m,high\u001b[39m=\u001b[39m\u001b[39m1\u001b[39m) \u001b[39mfor\u001b[39;00m val \u001b[39min\u001b[39;00m \u001b[39mrange\u001b[39m(\u001b[39m4\u001b[39m)] \n\u001b[0;32m      4\u001b[0m \u001b[39m#Minimization of the squared error by Nelder-Mead \u001b[39;00m\n\u001b[1;32m----> 5\u001b[0m res \u001b[39m=\u001b[39m minimize(SquaredError, g0, method\u001b[39m=\u001b[39;49m\u001b[39m'\u001b[39;49m\u001b[39mnelder-mead\u001b[39;49m\u001b[39m'\u001b[39;49m,options\u001b[39m=\u001b[39;49m{\u001b[39m'\u001b[39;49m\u001b[39mxtol\u001b[39;49m\u001b[39m'\u001b[39;49m: \u001b[39m1e-3\u001b[39;49m, \u001b[39m'\u001b[39;49m\u001b[39mmaxiter\u001b[39;49m\u001b[39m'\u001b[39;49m:\u001b[39m100\u001b[39;49m,\u001b[39m'\u001b[39;49m\u001b[39mdisp\u001b[39;49m\u001b[39m'\u001b[39;49m: \u001b[39mFalse\u001b[39;49;00m})\n\u001b[0;32m      7\u001b[0m ModelParams03\u001b[39m=\u001b[39mcurve_fit(ModelFit,SolverTime,WhiteSignal,p0\u001b[39m=\u001b[39mres\u001b[39m.\u001b[39mx)\n\u001b[0;32m      8\u001b[0m FitSolution3\u001b[39m=\u001b[39mModelSolver(SolverTime,ModelParams03[\u001b[39m0\u001b[39m][\u001b[39m0\u001b[39m],ModelParams03[\u001b[39m0\u001b[39m][\u001b[39m1\u001b[39m],ModelParams03[\u001b[39m0\u001b[39m][\u001b[39m2\u001b[39m],ModelParams03[\u001b[39m0\u001b[39m][\u001b[39m3\u001b[39m],Int)\n",
      "File \u001b[1;32mc:\\Users\\Administrator\\Diabetes-Control\\myenv\\Lib\\site-packages\\scipy\\optimize\\_minimize.py:684\u001b[0m, in \u001b[0;36mminimize\u001b[1;34m(fun, x0, args, method, jac, hess, hessp, bounds, constraints, tol, callback, options)\u001b[0m\n\u001b[0;32m    681\u001b[0m     bounds \u001b[39m=\u001b[39m standardize_bounds(bounds, x0, meth)\n\u001b[0;32m    683\u001b[0m \u001b[39mif\u001b[39;00m meth \u001b[39m==\u001b[39m \u001b[39m'\u001b[39m\u001b[39mnelder-mead\u001b[39m\u001b[39m'\u001b[39m:\n\u001b[1;32m--> 684\u001b[0m     res \u001b[39m=\u001b[39m _minimize_neldermead(fun, x0, args, callback, bounds\u001b[39m=\u001b[39;49mbounds,\n\u001b[0;32m    685\u001b[0m                                \u001b[39m*\u001b[39;49m\u001b[39m*\u001b[39;49moptions)\n\u001b[0;32m    686\u001b[0m \u001b[39melif\u001b[39;00m meth \u001b[39m==\u001b[39m \u001b[39m'\u001b[39m\u001b[39mpowell\u001b[39m\u001b[39m'\u001b[39m:\n\u001b[0;32m    687\u001b[0m     res \u001b[39m=\u001b[39m _minimize_powell(fun, x0, args, callback, bounds, \u001b[39m*\u001b[39m\u001b[39m*\u001b[39moptions)\n",
      "File \u001b[1;32mc:\\Users\\Administrator\\Diabetes-Control\\myenv\\Lib\\site-packages\\scipy\\optimize\\_optimize.py:845\u001b[0m, in \u001b[0;36m_minimize_neldermead\u001b[1;34m(func, x0, args, callback, maxiter, maxfev, disp, return_all, initial_simplex, xatol, fatol, adaptive, bounds, **unknown_options)\u001b[0m\n\u001b[0;32m    843\u001b[0m \u001b[39mtry\u001b[39;00m:\n\u001b[0;32m    844\u001b[0m     \u001b[39mfor\u001b[39;00m k \u001b[39min\u001b[39;00m \u001b[39mrange\u001b[39m(N \u001b[39m+\u001b[39m \u001b[39m1\u001b[39m):\n\u001b[1;32m--> 845\u001b[0m         fsim[k] \u001b[39m=\u001b[39m func(sim[k])\n\u001b[0;32m    846\u001b[0m \u001b[39mexcept\u001b[39;00m _MaxFuncCallError:\n\u001b[0;32m    847\u001b[0m     \u001b[39mpass\u001b[39;00m\n",
      "File \u001b[1;32mc:\\Users\\Administrator\\Diabetes-Control\\myenv\\Lib\\site-packages\\scipy\\optimize\\_optimize.py:569\u001b[0m, in \u001b[0;36m_wrap_scalar_function_maxfun_validation.<locals>.function_wrapper\u001b[1;34m(x, *wrapper_args)\u001b[0m\n\u001b[0;32m    567\u001b[0m ncalls[\u001b[39m0\u001b[39m] \u001b[39m+\u001b[39m\u001b[39m=\u001b[39m \u001b[39m1\u001b[39m\n\u001b[0;32m    568\u001b[0m \u001b[39m# A copy of x is sent to the user function (gh13740)\u001b[39;00m\n\u001b[1;32m--> 569\u001b[0m fx \u001b[39m=\u001b[39m function(np\u001b[39m.\u001b[39;49mcopy(x), \u001b[39m*\u001b[39;49m(wrapper_args \u001b[39m+\u001b[39;49m args))\n\u001b[0;32m    570\u001b[0m \u001b[39m# Ideally, we'd like to a have a true scalar returned from f(x). For\u001b[39;00m\n\u001b[0;32m    571\u001b[0m \u001b[39m# backwards-compatibility, also allow np.array([1.3]),\u001b[39;00m\n\u001b[0;32m    572\u001b[0m \u001b[39m# np.array([[1.3]]) etc.\u001b[39;00m\n\u001b[0;32m    573\u001b[0m \u001b[39mif\u001b[39;00m \u001b[39mnot\u001b[39;00m np\u001b[39m.\u001b[39misscalar(fx):\n",
      "Cell \u001b[1;32mIn[5], line 7\u001b[0m, in \u001b[0;36mSquaredError\u001b[1;34m(InitialParameterGuess)\u001b[0m\n\u001b[0;32m      2\u001b[0m \u001b[39mdef\u001b[39;00m \u001b[39mSquaredError\u001b[39m(InitialParameterGuess):\n\u001b[0;32m      4\u001b[0m     \u001b[39mtry\u001b[39;00m:\n\u001b[0;32m      5\u001b[0m         \u001b[39m#Some guesses will result in an error or an invalid integration \u001b[39;00m\n\u001b[0;32m      6\u001b[0m         \u001b[39m#this ensures that the error is estimated only for valid solutions \u001b[39;00m\n\u001b[1;32m----> 7\u001b[0m         cModelParams\u001b[39m=\u001b[39mcurve_fit(ModelFit,SolverTime,WhiteSignal,p0\u001b[39m=\u001b[39mInitialParameterGuess)\n\u001b[0;32m      8\u001b[0m         cSolution\u001b[39m=\u001b[39mModelSolver(SolverTime,cModelParams[\u001b[39m0\u001b[39m][\u001b[39m0\u001b[39m],cModelParams[\u001b[39m0\u001b[39m][\u001b[39m1\u001b[39m],cModelParams[\u001b[39m0\u001b[39m][\u001b[39m2\u001b[39m],cModelParams[\u001b[39m0\u001b[39m][\u001b[39m3\u001b[39m],Int)\n\u001b[0;32m     10\u001b[0m         error\u001b[39m=\u001b[39m[(val\u001b[39m-\u001b[39msal)\u001b[39m*\u001b[39m\u001b[39m*\u001b[39m\u001b[39m2\u001b[39m \u001b[39mfor\u001b[39;00m val,sal \u001b[39min\u001b[39;00m \u001b[39mzip\u001b[39m(cSolution,WhiteSignal)]\n",
      "\u001b[1;31mNameError\u001b[0m: name 'ModelFit' is not defined"
     ]
    }
   ],
   "source": [
    "#Vector of random initial values \n",
    "g0=[np.random.uniform(low=0,high=1) for val in range(4)] \n",
    "\n",
    "#Minimization of the squared error by Nelder-Mead \n",
    "res = minimize(SquaredError, g0, method='nelder-mead',options={'xtol': 1e-3, 'maxiter':100,'disp': False})\n",
    "\n",
    "ModelParams03=curve_fit(ModelFit,SolverTime,WhiteSignal,p0=res.x)\n",
    "FitSolution3=ModelSolver(SolverTime,ModelParams03[0][0],ModelParams03[0][1],ModelParams03[0][2],ModelParams03[0][3],Int)\n"
   ]
  }
 ],
 "metadata": {
  "kernelspec": {
   "display_name": "Python 3",
   "language": "python",
   "name": "python3"
  },
  "language_info": {
   "codemirror_mode": {
    "name": "ipython",
    "version": 3
   },
   "file_extension": ".py",
   "mimetype": "text/x-python",
   "name": "python",
   "nbconvert_exporter": "python",
   "pygments_lexer": "ipython3",
   "version": "3.11.1"
  },
  "orig_nbformat": 4
 },
 "nbformat": 4,
 "nbformat_minor": 2
}
