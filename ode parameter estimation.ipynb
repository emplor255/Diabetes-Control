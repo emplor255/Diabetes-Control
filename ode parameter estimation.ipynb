{
 "cells": [
  {
   "cell_type": "code",
   "execution_count": 1,
   "metadata": {},
   "outputs": [],
   "source": [
    "import numpy as np\n",
    "import matplotlib.pyplot as plt\n",
    "import pandas as pd\n",
    "from scipy.integrate import odeint\n",
    "from lmfit import minimize, Parameters, Parameter, report_fit\n",
    "from scipy.integrate import odeint"
   ]
  },
  {
   "cell_type": "code",
   "execution_count": 2,
   "metadata": {},
   "outputs": [],
   "source": [
    "def softplus(x):\n",
    "    return np.log(1 + np.exp(x))\n",
    "\n",
    "def relu(x):\n",
    "    return np.maximum(0, x)"
   ]
  },
  {
   "cell_type": "code",
   "execution_count": 10,
   "metadata": {},
   "outputs": [],
   "source": [
    "def f(y, t, paras):\n",
    "    \"\"\"\n",
    "    Your system of differential equations\n",
    "    \"\"\"\n",
    "\n",
    "    G1 = y[0]\n",
    "    G2 = y[1]\n",
    "    I = y[2]\n",
    "\n",
    "    try:\n",
    "        alpha = paras['alpha'].value\n",
    "        beta1 = paras['beta1'].value\n",
    "        beta2 = paras['beta2'].value\n",
    "        I_basal = paras['I_basal'].value\n",
    "        gamma = paras['gamma'].value\n",
    "        delta = paras['delta'].value\n",
    "        I_max = paras['I_max'].value\n",
    "\n",
    "    except KeyError:\n",
    "        alpha, beta1, beta2, I_basal, gamma, delta, I_max = paras\n",
    "    # the model equations\n",
    "    dG1 = -alpha*G1\n",
    "    dG2 = alpha*G1 - (beta1 + beta2 * (I+I_basal)) *G2\n",
    "    dI = gamma * relu(G2 - 92.5) - delta * I\n",
    "    return [dG1, dG2, dI]\n",
    "    #dI = I_max * (reG2**2) / (gamma + reG2**2) - delta * I \n",
    "    #dI = I_max + gamma * relu(G2 -  92.5) - delta * I\n",
    "    #dI = I_max * (G2**2) / (gamma + G2**2) - delta * I \n",
    "    #dI = I_max * G2 / (gamma + G2) - delta * I \n",
    "    #dI = gamma * G2 - delta * I\n",
    "\n",
    "\n",
    "def g(t, x0, paras):\n",
    "    \"\"\"\n",
    "    Solution to the ODE x'(t) = f(t,x,k) with initial condition x(0) = x0\n",
    "    \"\"\"\n",
    "    x = odeint(f, x0, t, args=(paras,))\n",
    "    return x\n",
    "\n",
    "\n",
    "def residual(paras, t, data):\n",
    "\n",
    "    \"\"\"\n",
    "    compute the residual between actual data and fitted data\n",
    "    \"\"\"\n",
    "\n",
    "    x0 = paras['G10'].value, paras['G20'].value, paras['I0'].value\n",
    "    model = g(t, x0, paras)\n",
    "\n",
    "    # you only have data for one of your variables\n",
    "    x2_model = model[:, 1]\n",
    "    return (x2_model - data).ravel()\n",
    "\n",
    "\n"
   ]
  },
  {
   "cell_type": "code",
   "execution_count": 5,
   "metadata": {},
   "outputs": [],
   "source": [
    "# initial conditions\n",
    "G10 = 120.\n",
    "G20 = 70.\n",
    "I0 = 0\n",
    "y0 = [G10, G20, I0]\n",
    "\n",
    "\n",
    "t_values = [0, 0.5, 0.75, 1, 1.5, 2, 2.5, 3, 4, 6]\n",
    "G_t_values = [70, 150, 165, 145, 90, 75, 70, 75, 80, 75]\n",
    "G_t_values_dia = [100,185,210,220,195,175,105,100,90,85]\n",
    "\n",
    "# measured data\n",
    "t_measured = np.linspace(0, 9, 10)\n",
    "x2_measured = np.array([0.000, 0.416, 0.489, 0.595, 0.506, 0.493, 0.458, 0.394, 0.335, 0.309])\n",
    "\n",
    "# set parameters including bounds; you can also fix parameters (use vary=False)\n",
    "# I fixed the initial concentrations, you could also set them as variables if you like (just remove the vary=False in the code below).\n",
    "params = Parameters()\n",
    "params.add('G10', value=G10, vary=False)\n",
    "params.add('G20', value=G20, vary=False)\n",
    "params.add('I0', value=I0, vary = False)\n",
    "params.add('alpha', value=0.2, min=0.0001)\n",
    "params.add('beta1', value=0.3, min=0.0001)\n",
    "params.add('beta2', value=0.2, min=0.0001)\n",
    "params.add('I_basal', value=0.3, min=5, max = 20)\n",
    "params.add('gamma', value=0.2, min=0.0001)\n",
    "params.add('delta', value=0.3, min=0.0001)\n",
    "params.add('I_max', value=0.2, min=20)"
   ]
  },
  {
   "cell_type": "code",
   "execution_count": 11,
   "metadata": {},
   "outputs": [
    {
     "name": "stdout",
     "output_type": "stream",
     "text": [
      "[[Fit Statistics]]\n",
      "    # fitting method   = leastsq\n",
      "    # function evals   = 423\n",
      "    # data points      = 10\n",
      "    # variables        = 7\n",
      "    chi-square         = 746.802255\n",
      "    reduced chi-square = 248.934085\n",
      "    Akaike info crit   = 57.1321534\n",
      "    Bayesian info crit = 59.2502490\n",
      "##  Warning: uncertainties could not be estimated:\n",
      "    beta1:    at boundary\n",
      "    I_max:    at initial value\n",
      "    I_max:    at boundary\n",
      "[[Variables]]\n",
      "    G10:      120 (fixed)\n",
      "    G20:      70 (fixed)\n",
      "    I0:       0 (fixed)\n",
      "    alpha:    3.31663690 (init = 0.2)\n",
      "    beta1:    1.0000e-04 (init = 0.3)\n",
      "    beta2:    1.9730e-04 (init = 0.2)\n",
      "    I_basal:  18.6491078 (init = 5)\n",
      "    gamma:    124.111149 (init = 0.2)\n",
      "    delta:    1.47384384 (init = 0.3)\n",
      "    I_max:    20.0000000 (init = 20)\n"
     ]
    },
    {
     "data": {
      "image/png": "[encoded data removed]",
      "text/plain": [
       "<Figure size 640x480 with 1 Axes>"
      ]
     },
     "metadata": {},
     "output_type": "display_data"
    }
   ],
   "source": [
    "# fit model\n",
    "result = minimize(residual, params, args=(t_values, G_t_values), method='leastsq')  # leastsq nelder\n",
    "# check results of the fit\n",
    "data_fitted = g(np.linspace(0., 9., 100), y0, result.params)\n",
    "\n",
    "# plot fitted data\n",
    "plt.figure()\n",
    "plt.scatter(t_values, G_t_values, marker='o', color='b', label='G2 data', s=75)\n",
    "\n",
    "plt.plot(np.linspace(0., 9., 100), data_fitted[:, 0], '-', linewidth=2, color='blue', label='G1 fitted data')\n",
    "plt.plot(np.linspace(0., 9., 100), data_fitted[:, 1], '-', linewidth=2, color='red', label='G2 fitted data')\n",
    "#plt.plot(np.linspace(0., 9., 100), data_fitted[:, 2], '-', linewidth=2, color='green', label='I fitted data')\n",
    "plt.legend()\n",
    "#plt.xlim([0, max(t_measured)])\n",
    "#plt.ylim([0, 1.1 * max(data_fitted[:, 1])])\n",
    "\n",
    "# display fitted statistics\n",
    "report_fit(result)\n",
    "\n",
    "plt.show()"
   ]
  }
 ],
 "metadata": {
  "kernelspec": {
   "display_name": "myenv",
   "language": "python",
   "name": "python3"
  },
  "language_info": {
   "codemirror_mode": {
    "name": "ipython",
    "version": 3
   },
   "file_extension": ".py",
   "mimetype": "text/x-python",
   "name": "python",
   "nbconvert_exporter": "python",
   "pygments_lexer": "ipython3",
   "version": "3.9.13"
  },
  "orig_nbformat": 4
 },
 "nbformat": 4,
 "nbformat_minor": 2
}
